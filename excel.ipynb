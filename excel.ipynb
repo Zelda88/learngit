{
 "cells": [
  {
   "cell_type": "code",
   "execution_count": 1,
   "metadata": {},
   "outputs": [],
   "source": [
    "import shutil, os\n",
    "import openpyxl"
   ]
  },
  {
   "cell_type": "code",
   "execution_count": 2,
   "metadata": {},
   "outputs": [],
   "source": [
    "os.chdir(\"F:\\\\Work\\\\2019\\\\excel\")"
   ]
  },
  {
   "cell_type": "code",
   "execution_count": 3,
   "metadata": {},
   "outputs": [
    {
     "data": {
      "text/plain": [
       "'F:\\\\Work\\\\2019\\\\excel'"
      ]
     },
     "execution_count": 3,
     "metadata": {},
     "output_type": "execute_result"
    }
   ],
   "source": [
    "os.getcwd()"
   ]
  },
  {
   "cell_type": "code",
   "execution_count": 65,
   "metadata": {},
   "outputs": [],
   "source": [
    "#1.删除之前已插入的内容\n",
    "wb2 = openpyxl.load_workbook(\"F:\\\\Work\\\\2019\\\\all.xlsx\")\n",
    "ws2 = wb1[\"Sheet\"]\n",
    "#ws2.delete_cols(4, 1) 删除列不生效\n",
    "ws2.delete_rows(100, 1)\n",
    "wb2.save(\"F:\\\\Work\\\\2019\\\\all.xlsx\")\n",
    "\n",
    "#2.插入标题行内容\n",
    "#获取并存储标题内容\n",
    "head = [\"A\", \"B\", \"C\"]\n",
    "#在最终excel表格中插入标题\n",
    "ws1.append(head)\n",
    "\n",
    "#3.获取要合并的sheet页内容\n",
    "for filename in os.listdir(\"F:\\\\Work\\\\2019\\\\excel_all\"):\n",
    "    filename = os.path.join(\"F:\\\\Work\\\\2019\\\\excel_all\", filename)\n",
    "    wb = openpyxl.load_workbook(filename, keep_vba=True, data_only=True)\n",
    "    ws = wb[\"Sheet1\"]\n",
    "#     ws = wb.active\n",
    "    max_row = ws.max_row\n",
    "    max_col = ws.max_column\n",
    "    wb1 = openpyxl.load_workbook(\"F:\\\\Work\\\\2019\\\\all.xlsx\")\n",
    "    #创建新的sheet\n",
    "#     ws1 = wb1.create_sheet(title=\"name\")\n",
    "#     ws1 = wb1.active\n",
    "    ws1 = wb1[\"Sheet\"]\n",
    "    for row in ws.iter_rows(min_row=2, max_col=max_col, max_row=max_row, values_only=True):\n",
    "        ws1.append(row)\n",
    "    \n",
    "    wb1.save(\"F:\\\\Work\\\\2019\\\\all.xlsx\")"
   ]
  },
  {
   "cell_type": "code",
   "execution_count": null,
   "metadata": {},
   "outputs": [],
   "source": []
  }
 ],
 "metadata": {
  "kernelspec": {
   "display_name": "Python 3",
   "language": "python",
   "name": "python3"
  },
  "language_info": {
   "codemirror_mode": {
    "name": "ipython",
    "version": 3
   },
   "file_extension": ".py",
   "mimetype": "text/x-python",
   "name": "python",
   "nbconvert_exporter": "python",
   "pygments_lexer": "ipython3",
   "version": "3.6.7"
  }
 },
 "nbformat": 4,
 "nbformat_minor": 2
}
